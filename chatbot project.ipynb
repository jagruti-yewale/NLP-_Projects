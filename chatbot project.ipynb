{
 "cells": [
  {
   "cell_type": "code",
   "execution_count": 1,
   "id": "8a79863f",
   "metadata": {},
   "outputs": [],
   "source": [
    "#importing libraries\n",
    "from nltk.chat.util import Chat, reflections"
   ]
  },
  {
   "cell_type": "code",
   "execution_count": 2,
   "id": "9f59f01b",
   "metadata": {},
   "outputs": [],
   "source": [
    "# Define responce for chatbot\n",
    "response_pairs = [\n",
    "    [\n",
    "        r\"Hi|Hello\",\n",
    "        [\"Hello!\",\"Hi there!\",\"How can I help you\"]\n",
    "    ],\n",
    "    [\n",
    "        r\"how are you\",\n",
    "        [\"I am a chatbot , so I don't have a feeling, but thanks for aking. How can I help you. \"]\n",
    "    ],\n",
    "    [\n",
    "        r\"bye|goodbye\",\n",
    "        [\"Good bye!\",\"Have a greate day!\",\"see you later!\"]\n",
    "    ],\n",
    "    [\n",
    "        r\"(.*)your name\",\n",
    "        [\"I am customer service chatbot\"]\n",
    "    ],\n",
    "    #create a mor pattern and response as needed\n",
    "]"
   ]
  },
  {
   "cell_type": "code",
   "execution_count": 3,
   "id": "1d71c082",
   "metadata": {},
   "outputs": [],
   "source": [
    "#create a chat instance\n",
    "chatbot=Chat(response_pairs , reflections)"
   ]
  },
  {
   "cell_type": "code",
   "execution_count": 4,
   "id": "e0efadf3",
   "metadata": {},
   "outputs": [
    {
     "name": "stdout",
     "output_type": "stream",
     "text": [
      "Hello! I am your customer service chatbot. Type 'bye' to exist.\n",
      "you: hiii\n",
      "Bot: Hi there!\n",
      "you: how are you\n",
      "Bot: I am a chatbot , so I don't have a feeling, but thanks for aking. How can I help you. \n",
      "you: .\n",
      "Bot: None\n",
      "you: bye\n",
      "Goodbye! if you have more questions, feel free to ask.\n"
     ]
    }
   ],
   "source": [
    "# start the converstation\n",
    "print(\"Hello! I am your customer service chatbot. Type 'bye' to exist.\")\n",
    "while True:\n",
    "    user_input = input(\"you: \")\n",
    "    if user_input.lower() =='bye':\n",
    "        print(\"Goodbye! if you have more questions, feel free to ask.\")\n",
    "        break\n",
    "    else:\n",
    "        response = chatbot.respond(user_input)\n",
    "        print(\"Bot:\",response)       "
   ]
  },
  {
   "cell_type": "code",
   "execution_count": null,
   "id": "c6fa3ba7",
   "metadata": {},
   "outputs": [],
   "source": []
  }
 ],
 "metadata": {
  "kernelspec": {
   "display_name": "Python 3 (ipykernel)",
   "language": "python",
   "name": "python3"
  },
  "language_info": {
   "codemirror_mode": {
    "name": "ipython",
    "version": 3
   },
   "file_extension": ".py",
   "mimetype": "text/x-python",
   "name": "python",
   "nbconvert_exporter": "python",
   "pygments_lexer": "ipython3",
   "version": "3.11.4"
  }
 },
 "nbformat": 4,
 "nbformat_minor": 5
}
